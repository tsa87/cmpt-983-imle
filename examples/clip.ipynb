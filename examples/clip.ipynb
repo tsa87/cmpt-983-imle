{
 "cells": [
  {
   "cell_type": "code",
   "execution_count": 3,
   "metadata": {},
   "outputs": [],
   "source": [
    "import sys\n",
    "sys.path.append('../')\n",
    "\n",
    "import torch\n",
    "import clip"
   ]
  },
  {
   "cell_type": "code",
   "execution_count": 2,
   "metadata": {},
   "outputs": [
    {
     "name": "stderr",
     "output_type": "stream",
     "text": [
      "100%|███████████████████████████████████████| 338M/338M [01:09<00:00, 5.10MiB/s]\n"
     ]
    }
   ],
   "source": [
    "device = \"cuda\" if torch.cuda.is_available() else \"cpu\"\n",
    "model, preprocess = clip.load(\"ViT-B/32\", device=device)"
   ]
  },
  {
   "cell_type": "code",
   "execution_count": 3,
   "metadata": {},
   "outputs": [],
   "source": [
    "text = clip.tokenize([\"a diagram\", \"a dog\", \"a cat\"]).to(device)"
   ]
  },
  {
   "cell_type": "code",
   "execution_count": 5,
   "metadata": {},
   "outputs": [],
   "source": [
    "from dataset import shapenetpart_cat2id\n",
    "\n",
    "\n",
    "shapenetpart_id2cat = {v: k for k, v in shapenetpart_cat2id.items()}"
   ]
  },
  {
   "cell_type": "code",
   "execution_count": 6,
   "metadata": {},
   "outputs": [],
   "source": [
    "import lightning as L\n",
    "\n",
    "\n",
    "class TextPointCloudCLIP(torch.nn.Module):\n",
    "    def __init__(self, point_cloud_encoder, clip_name=\"ViT-B/32\", device=\"cuda\"):\n",
    "        super().__init__()\n",
    "        self.pretrained_model, self.preprocess = clip.load(clip_name, device=device)\n",
    "        self.point_cloud_encoder = point_cloud_encoder\n",
    "\n",
    "        self.dim_reduction = torch.nn.Linear(512, 128)\n",
    "        \n",
    "    def forward(self, text, encoded_points):\n",
    "        text_features = self.pretrained_model.encode_text(text)\n",
    "        text_features = self.dim_reduction(text_features)\n",
    "        point_cloud_features = self.point_cloud_encoder(encoded_points)\n",
    "        return text_features, point_cloud_features\n",
    "        \n",
    "class LitTextPointCloudCLIP(L.LightningModule):\n",
    "    def __init__(self, point_cloud_encoder, clip_name=\"ViT-B/32\", device=\"cuda\"):\n",
    "        super().__init__()\n",
    "        self.clip_model = TextPointCloudCLIP(point_cloud_encoder, clip_name, device)\n",
    "        self.loss_fn = torch.nn.CrossEntropyLoss()\n",
    "        self.logit_scale = nn.Parameter(torch.ones([]) * np.log(1 / 0.07))\n",
    "    \n",
    "    def _compute_logits(self, features_a, features_b):\n",
    "        features_a = features_a / features_a.norm(dim=1, keepdim=True)\n",
    "        features_b = features_b / features_b.norm(dim=1, keepdim=True)\n",
    "        \n",
    "        logit_scale = self.logit_scale.exp()\n",
    "        logits_per_a = logit_scale * features_a @ features_b.t()\n",
    "        logits_per_b = logits_per_a.t()\n",
    "        \n",
    "        return logits_per_a, logits_per_b\n",
    "    \n",
    "    def _step(self, batch):\n",
    "        pts_enc = batch[\"points_encoded\"]\n",
    "        labels = batch[\"label\"]\n",
    "        \n",
    "        text = clip.tokenize([\n",
    "            shapenetpart_id2cat[l] for l in labels\n",
    "        ]).to(self.device)\n",
    "        \n",
    "        text_features, point_cloud_features = self.clip_model(text, pts_enc)\n",
    "        \n",
    "        logits_per_text, logits_per_point_cloud = self._compute_logits(\n",
    "            text_features, point_cloud_features)\n",
    "        \n",
    "        ground_truth = torch.arange(len(labels)).to(self.device)\n",
    "        clip_loss = (self.loss_fn(logits_per_text, ground_truth) + self.loss_fn(logits_per_point_cloud, ground_truth)) / 2\n",
    "        \n",
    "        return clip_loss\n",
    "    \n",
    "    def training_step(self, batch, batch_idx):\n",
    "        loss = self._step(batch, batch_idx)\n",
    "        self.log(\"train_loss\", loss)\n",
    "        return loss\n",
    "\n",
    "    def validation_step(self, batch, batch_idx):\n",
    "        loss = self._step(batch, batch_idx)\n",
    "        self.log(\"val_loss\", loss)\n",
    "\n",
    "    def configure_optimizers(self):\n",
    "        optimizer = optim.Adam(self.parameters(), lr=5e-5,betas=(0.9,0.98),eps=1e-6,weight_decay=0.2)\n",
    "        # scheduler = optim.lr_scheduler.ExponentialLR(optimizer, 0.9995)\n",
    "        return optimizer"
   ]
  },
  {
   "cell_type": "code",
   "execution_count": 4,
   "metadata": {},
   "outputs": [],
   "source": [
    "with torch.no_grad():\n",
    "    text_features = model.encode_text(text)"
   ]
  },
  {
   "cell_type": "code",
   "execution_count": 6,
   "metadata": {},
   "outputs": [
    {
     "data": {
      "text/plain": [
       "torch.Size([3, 512])"
      ]
     },
     "execution_count": 6,
     "metadata": {},
     "output_type": "execute_result"
    }
   ],
   "source": [
    "text_features.shape"
   ]
  },
  {
   "cell_type": "code",
   "execution_count": 7,
   "metadata": {},
   "outputs": [],
   "source": [
    "# Modified from https://github.com/openai/CLIP/blob/a1d071733d7111c9c014f024669f959182114e33/clip/model.py\n"
   ]
  },
  {
   "cell_type": "code",
   "execution_count": null,
   "metadata": {},
   "outputs": [],
   "source": []
  }
 ],
 "metadata": {
  "kernelspec": {
   "display_name": "imle",
   "language": "python",
   "name": "python3"
  },
  "language_info": {
   "codemirror_mode": {
    "name": "ipython",
    "version": 3
   },
   "file_extension": ".py",
   "mimetype": "text/x-python",
   "name": "python",
   "nbconvert_exporter": "python",
   "pygments_lexer": "ipython3",
   "version": "3.7.16"
  }
 },
 "nbformat": 4,
 "nbformat_minor": 2
}
