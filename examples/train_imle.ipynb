{
 "cells": [
  {
   "cell_type": "code",
   "execution_count": 1,
   "metadata": {},
   "outputs": [],
   "source": [
    "import sys\n",
    "sys.path.append('../')\n",
    "import torch\n",
    "from torch import nn\n",
    "from dataset import AEDataset\n",
    "from torch.utils.data import DataLoader\n",
    "from lightning_model.autoencoder import LitAE \n",
    "from lightning_model.imle import LitIMLEGenerator\n",
    "from lightning_model.clip import LitTextPointCloudCLIP"
   ]
  },
  {
   "cell_type": "code",
   "execution_count": 2,
   "metadata": {},
   "outputs": [],
   "source": [
    "from types import SimpleNamespace\n",
    "config = {\n",
    "    'enc_filters': (64, 128, 128, 256),\n",
    "    'latent_dim': 128,\n",
    "    'enc_bn': True,\n",
    "    'dec_features': (256, 256),\n",
    "    'n_pts': 256,\n",
    "    'dec_bn': False,\n",
    "    'noise_dim': 32,\n",
    "    'num_latent': 80,\n",
    "    'imle_features': (256, 512),\n",
    "    'latent_loss_weight': 5,\n",
    "    'shape_loss_weight': 6\n",
    "}\n",
    "config = SimpleNamespace(**config)"
   ]
  },
  {
   "cell_type": "code",
   "execution_count": 3,
   "metadata": {},
   "outputs": [],
   "source": [
    "checkpoint = '../lightning_logs/autoencoder/checkpoints/epoch=999-step=1116000.ckpt'\n",
    "autoencoder = LitAE.load_from_checkpoint(checkpoint, config=config)"
   ]
  },
  {
   "cell_type": "code",
   "execution_count": 4,
   "metadata": {},
   "outputs": [],
   "source": [
    "checkpoint = '../lightning_logs/clip_model_20240405-194534/version_0/checkpoints/epoch=157-step=176328.ckpt'\n",
    "clip_model = LitTextPointCloudCLIP.load_from_checkpoint(checkpoint, config=config, point_cloud_encoder=autoencoder.autoencoder.encoder)"
   ]
  },
  {
   "cell_type": "code",
   "execution_count": 5,
   "metadata": {},
   "outputs": [
    {
     "data": {
      "text/plain": [
       "device(type='cuda', index=0)"
      ]
     },
     "execution_count": 5,
     "metadata": {},
     "output_type": "execute_result"
    }
   ],
   "source": [
    "autoencoder.eval().cuda()\n",
    "clip_model.eval().cuda()\n",
    "clip_model.device"
   ]
  },
  {
   "cell_type": "code",
   "execution_count": 6,
   "metadata": {},
   "outputs": [
    {
     "name": "stdout",
     "output_type": "stream",
     "text": [
      "datasize: 35708\n",
      "datasize: 5158\n",
      "datasize: 10261\n"
     ]
    }
   ],
   "source": [
    "root = '..'\n",
    "dataset_name = 'shapenetcorev2'\n",
    "# choose split type from 'train', 'test', 'all', 'trainval' and 'val'\n",
    "# only shapenetcorev2 and shapenetpart dataset support 'trainval' and 'val'\n",
    "\n",
    "train_dataset = AEDataset(root=root, dataset_name=dataset_name, num_points=config.n_pts, split='train')\n",
    "val_dataset = AEDataset(root=root, dataset_name=dataset_name, num_points=config.n_pts, split='val')\n",
    "test_dataset = AEDataset(root=root, dataset_name=dataset_name, num_points=config.n_pts, split='test')\n",
    "\n",
    "train_loader = DataLoader(train_dataset, batch_size=32, shuffle=True, num_workers=4)\n",
    "val_loader = DataLoader(val_dataset, batch_size=32, shuffle=False, num_workers=4)\n",
    "test_loader = DataLoader(test_dataset, batch_size=32, shuffle=False, num_workers=4)\n",
    "print(\"datasize:\", train_dataset.__len__())\n",
    "print(\"datasize:\", val_dataset.__len__())\n",
    "print(\"datasize:\", test_dataset.__len__())"
   ]
  },
  {
   "cell_type": "code",
   "execution_count": 7,
   "metadata": {},
   "outputs": [],
   "source": [
    "from dataset import shapenetcore_cat2id\n",
    "\n",
    "label_list = [i for i in range(len(shapenetcore_cat2id))]\n",
    "with torch.no_grad():\n",
    "    label_latents = clip_model.compute_text_features(label_list).cuda()"
   ]
  },
  {
   "cell_type": "code",
   "execution_count": 10,
   "metadata": {},
   "outputs": [],
   "source": [
    "lit_lmle_model = LitIMLEGenerator(\n",
    "    config, label_latents, autoencoder\n",
    ")"
   ]
  },
  {
   "cell_type": "code",
   "execution_count": 11,
   "metadata": {},
   "outputs": [
    {
     "name": "stdout",
     "output_type": "stream",
     "text": [
      "Time taken for forward pass:  0.14560580253601074\n",
      "Time taken for imle_gen:  0.036913156509399414\n",
      "Time taken for find_closest_latent:  0.24357819557189941\n",
      "Time taken for decoder:  0.0007839202880859375\n",
      "Time taken for loss calculation:  5.472018003463745\n"
     ]
    },
    {
     "name": "stderr",
     "output_type": "stream",
     "text": [
      "/home/tsa87/anaconda3/envs/imle/lib/python3.7/site-packages/lightning/pytorch/core/module.py:429: UserWarning: You are trying to `self.log()` but the `self.trainer` reference is not registered on the model yet. This is most likely because the model hasn't been passed to the `Trainer`\n",
      "  \"You are trying to `self.log()` but the `self.trainer` reference is not registered on the model yet.\"\n"
     ]
    }
   ],
   "source": [
    "for batch in train_loader:\n",
    "    with torch.no_grad():\n",
    "        # label_latent = clip_model.compute_text_features(batch['label'].squeeze().tolist()).cuda()\n",
    "        # real_pc_latent = autoencoder.autoencoder.encoder(batch['points_encoded'].cuda())\n",
    "        # out = imle_model(label_latent, real_pc_latent)\n",
    "        # print(out.shape)\n",
    "        \n",
    "        lit_lmle_model.training_step(batch, 0)\n",
    "    break   "
   ]
  },
  {
   "cell_type": "code",
   "execution_count": null,
   "metadata": {},
   "outputs": [
    {
     "name": "stderr",
     "output_type": "stream",
     "text": [
      "/home/tsa87/anaconda3/envs/imle/lib/python3.7/site-packages/lightning/pytorch/trainer/connectors/accelerator_connector.py:479: LightningDeprecationWarning: Setting `Trainer(gpus=1)` is deprecated in v1.7 and will be removed in v2.0. Please use `Trainer(accelerator='gpu', devices=1)` instead.\n",
      "  f\"Setting `Trainer(gpus={gpus!r})` is deprecated in v1.7 and will be removed\"\n",
      "GPU available: True (cuda), used: True\n",
      "TPU available: False, using: 0 TPU cores\n",
      "IPU available: False, using: 0 IPUs\n",
      "HPU available: False, using: 0 HPUs\n",
      "You are using a CUDA device ('NVIDIA GeForce RTX 3090') that has Tensor Cores. To properly utilize them, you should set `torch.set_float32_matmul_precision('medium' | 'high')` which will trade-off precision for performance. For more details, read https://pytorch.org/docs/stable/generated/torch.set_float32_matmul_precision.html#torch.set_float32_matmul_precision\n",
      "Missing logger folder: lightning_logs/clip_model_20240406-121226\n",
      "LOCAL_RANK: 0 - CUDA_VISIBLE_DEVICES: [0]\n",
      "\n",
      "  | Name        | Type                  | Params\n",
      "------------------------------------------------------\n",
      "0 | clip_model  | LitTextPointCloudCLIP | 151 M \n",
      "1 | autoencoder | LitAE                 | 390 K \n",
      "2 | imle_gen    | IMLEGenerator         | 238 K \n",
      "3 | mse_loss    | MSELoss               | 0     \n",
      "------------------------------------------------------\n",
      "151 M     Trainable params\n",
      "0         Non-trainable params\n",
      "151 M     Total params\n",
      "607.889   Total estimated model params size (MB)\n"
     ]
    },
    {
     "data": {
      "application/vnd.jupyter.widget-view+json": {
       "model_id": "2f52cb6928e94f589083ee2012dbc0ac",
       "version_major": 2,
       "version_minor": 0
      },
      "text/plain": [
       "Sanity Checking: 0it [00:00, ?it/s]"
      ]
     },
     "metadata": {},
     "output_type": "display_data"
    },
    {
     "name": "stdout",
     "output_type": "stream",
     "text": [
      "torch.Size([32, 80, 128])\n",
      "torch.Size([32, 128])\n",
      "torch.Size([32, 80, 128])\n",
      "torch.Size([32, 128])\n"
     ]
    },
    {
     "data": {
      "application/vnd.jupyter.widget-view+json": {
       "model_id": "766e9403ad604b4c91a0eb54a8e6af2a",
       "version_major": 2,
       "version_minor": 0
      },
      "text/plain": [
       "Training: 0it [00:00, ?it/s]"
      ]
     },
     "metadata": {},
     "output_type": "display_data"
    },
    {
     "name": "stdout",
     "output_type": "stream",
     "text": [
      "torch.Size([32, 80, 128])\n",
      "torch.Size([32, 128])\n",
      "torch.Size([32, 80, 128])\n",
      "torch.Size([32, 128])\n",
      "torch.Size([32, 80, 128])\n",
      "torch.Size([32, 128])\n",
      "torch.Size([32, 80, 128])\n",
      "torch.Size([32, 128])\n",
      "torch.Size([32, 80, 128])\n",
      "torch.Size([32, 128])\n",
      "torch.Size([32, 80, 128])\n",
      "torch.Size([32, 128])\n"
     ]
    },
    {
     "name": "stderr",
     "output_type": "stream",
     "text": [
      "/home/tsa87/anaconda3/envs/imle/lib/python3.7/site-packages/lightning/pytorch/trainer/call.py:48: UserWarning: Detected KeyboardInterrupt, attempting graceful shutdown...\n",
      "  rank_zero_warn(\"Detected KeyboardInterrupt, attempting graceful shutdown...\")\n"
     ]
    }
   ],
   "source": [
    "import datetime\n",
    "from lightning.pytorch.callbacks import ModelCheckpoint\n",
    "from lightning.pytorch.loggers import TensorBoardLogger\n",
    "\n",
    "date_time = datetime.datetime.now().strftime(\"%Y%m%d-%H%M%S\")\n",
    "\n",
    "checkpoint_callback = ModelCheckpoint(save_top_k=1, monitor=\"val_loss\")\n",
    "logger = TensorBoardLogger(save_dir=f'lightning_logs', name=f\"clip_model_{date_time}\")\n",
    "trainer = L.Trainer(max_epochs=5000, gpus=1, logger=logger, callbacks=[checkpoint_callback])\n",
    "trainer.fit(model=lit_lmle_model, train_dataloaders=train_loader, val_dataloaders=val_loader)"
   ]
  },
  {
   "cell_type": "code",
   "execution_count": null,
   "metadata": {},
   "outputs": [],
   "source": []
  }
 ],
 "metadata": {
  "kernelspec": {
   "display_name": "imle",
   "language": "python",
   "name": "python3"
  },
  "language_info": {
   "codemirror_mode": {
    "name": "ipython",
    "version": 3
   },
   "file_extension": ".py",
   "mimetype": "text/x-python",
   "name": "python",
   "nbconvert_exporter": "python",
   "pygments_lexer": "ipython3",
   "version": "3.7.16"
  }
 },
 "nbformat": 4,
 "nbformat_minor": 2
}
