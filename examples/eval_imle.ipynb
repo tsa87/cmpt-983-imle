{
 "cells": [
  {
   "cell_type": "code",
   "execution_count": 2,
   "metadata": {},
   "outputs": [],
   "source": [
    "import sys\n",
    "sys.path.append('../')\n",
    "import torch\n",
    "from torch import nn\n",
    "from dataset import AEDataset, RobustAEDataset\n",
    "from torch.utils.data import DataLoader\n",
    "from lightning_model.autoencoder import LitAE \n",
    "from lightning_model.imle import LitIMLEGenerator\n",
    "from lightning_model.clip import LitTextPointCloudCLIP"
   ]
  },
  {
   "cell_type": "code",
   "execution_count": 3,
   "metadata": {},
   "outputs": [],
   "source": [
    "from types import SimpleNamespace\n",
    "config = {\n",
    "    'enc_filters': (64, 128, 128, 256),\n",
    "    'latent_dim': 128,\n",
    "    'enc_bn': True,\n",
    "    'dec_features': (256, 256),\n",
    "    'n_pts': 256,\n",
    "    'dec_bn': False,\n",
    "    'noise_dim': 32,\n",
    "    'num_latent': 80,\n",
    "    'imle_features': (256, 512),\n",
    "    'latent_loss_weight': 1000\n",
    "}\n",
    "config = SimpleNamespace(**config)"
   ]
  },
  {
   "cell_type": "code",
   "execution_count": 4,
   "metadata": {},
   "outputs": [],
   "source": [
    "checkpoint = '../lightning_logs/ae_model_20240410-103850/version_0/checkpoints/epoch=472-step=84667.ckpt'\n",
    "autoencoder = LitAE.load_from_checkpoint(checkpoint, config=config)"
   ]
  },
  {
   "cell_type": "code",
   "execution_count": 5,
   "metadata": {},
   "outputs": [
    {
     "data": {
      "text/plain": [
       "LitAE(\n",
       "  (autoencoder): PointAE(\n",
       "    (encoder): EncoderPointNet(\n",
       "      (model): Sequential(\n",
       "        (0): Conv1d(39, 64, kernel_size=(1,), stride=(1,))\n",
       "        (1): BatchNorm1d(64, eps=1e-05, momentum=0.1, affine=True, track_running_stats=True)\n",
       "        (2): LeakyReLU(negative_slope=0.01, inplace=True)\n",
       "        (3): Conv1d(64, 128, kernel_size=(1,), stride=(1,))\n",
       "        (4): BatchNorm1d(128, eps=1e-05, momentum=0.1, affine=True, track_running_stats=True)\n",
       "        (5): LeakyReLU(negative_slope=0.01, inplace=True)\n",
       "        (6): Conv1d(128, 128, kernel_size=(1,), stride=(1,))\n",
       "        (7): BatchNorm1d(128, eps=1e-05, momentum=0.1, affine=True, track_running_stats=True)\n",
       "        (8): LeakyReLU(negative_slope=0.01, inplace=True)\n",
       "        (9): Conv1d(128, 256, kernel_size=(1,), stride=(1,))\n",
       "        (10): BatchNorm1d(256, eps=1e-05, momentum=0.1, affine=True, track_running_stats=True)\n",
       "        (11): LeakyReLU(negative_slope=0.01, inplace=True)\n",
       "        (12): Conv1d(256, 128, kernel_size=(1,), stride=(1,))\n",
       "        (13): BatchNorm1d(128, eps=1e-05, momentum=0.1, affine=True, track_running_stats=True)\n",
       "        (14): LeakyReLU(negative_slope=0.01, inplace=True)\n",
       "      )\n",
       "    )\n",
       "    (decoder): DecoderFC(\n",
       "      (model): Sequential(\n",
       "        (0): Linear(in_features=128, out_features=256, bias=True)\n",
       "        (1): LeakyReLU(negative_slope=0.01, inplace=True)\n",
       "        (2): Linear(in_features=256, out_features=256, bias=True)\n",
       "        (3): LeakyReLU(negative_slope=0.01, inplace=True)\n",
       "        (4): Linear(in_features=256, out_features=768, bias=True)\n",
       "      )\n",
       "    )\n",
       "  )\n",
       ")"
      ]
     },
     "execution_count": 5,
     "metadata": {},
     "output_type": "execute_result"
    }
   ],
   "source": [
    "autoencoder.eval().cuda()\n",
    "# clip_model.eval().cuda()\n",
    "# clip_model.device"
   ]
  },
  {
   "cell_type": "code",
   "execution_count": 30,
   "metadata": {},
   "outputs": [],
   "source": [
    "import clip\n",
    "from dataset import shapenetcore_cat2id\n",
    "shapenetcore_id2cat = {v: k for k, v in shapenetcore_cat2id.items()}\n",
    "\n",
    "pretrained_model, preprocess = clip.load(\"ViT-B/32\", device='cuda', jit=False)\n",
    "\n",
    "label_list = list(shapenetcore_cat2id.keys())\n",
    "text = clip.tokenize([\n",
    "    l for l in label_list\n",
    "]).to('cuda')\n",
    "with torch.no_grad():\n",
    "    label_latents = pretrained_model.encode_text(text).detach().float()"
   ]
  },
  {
   "cell_type": "code",
   "execution_count": 7,
   "metadata": {},
   "outputs": [],
   "source": [
    "imle_checkpoint = '../lightning_logs/imle/lightning_logs/version_13/checkpoints/epoch=315-step=352656.ckpt'\n",
    "lit_imle_model = LitIMLEGenerator.load_from_checkpoint(\n",
    "    imle_checkpoint, \n",
    "    config=config,\n",
    "    label_latents=label_latents,\n",
    "    autoencoder=autoencoder    \n",
    ")"
   ]
  },
  {
   "cell_type": "code",
   "execution_count": 8,
   "metadata": {},
   "outputs": [
    {
     "data": {
      "text/plain": [
       "LitIMLEGenerator(\n",
       "  (autoencoder): LitAE(\n",
       "    (autoencoder): PointAE(\n",
       "      (encoder): EncoderPointNet(\n",
       "        (model): Sequential(\n",
       "          (0): Conv1d(39, 64, kernel_size=(1,), stride=(1,))\n",
       "          (1): BatchNorm1d(64, eps=1e-05, momentum=0.1, affine=True, track_running_stats=True)\n",
       "          (2): LeakyReLU(negative_slope=0.01, inplace=True)\n",
       "          (3): Conv1d(64, 128, kernel_size=(1,), stride=(1,))\n",
       "          (4): BatchNorm1d(128, eps=1e-05, momentum=0.1, affine=True, track_running_stats=True)\n",
       "          (5): LeakyReLU(negative_slope=0.01, inplace=True)\n",
       "          (6): Conv1d(128, 128, kernel_size=(1,), stride=(1,))\n",
       "          (7): BatchNorm1d(128, eps=1e-05, momentum=0.1, affine=True, track_running_stats=True)\n",
       "          (8): LeakyReLU(negative_slope=0.01, inplace=True)\n",
       "          (9): Conv1d(128, 256, kernel_size=(1,), stride=(1,))\n",
       "          (10): BatchNorm1d(256, eps=1e-05, momentum=0.1, affine=True, track_running_stats=True)\n",
       "          (11): LeakyReLU(negative_slope=0.01, inplace=True)\n",
       "          (12): Conv1d(256, 128, kernel_size=(1,), stride=(1,))\n",
       "          (13): BatchNorm1d(128, eps=1e-05, momentum=0.1, affine=True, track_running_stats=True)\n",
       "          (14): LeakyReLU(negative_slope=0.01, inplace=True)\n",
       "        )\n",
       "      )\n",
       "      (decoder): DecoderFC(\n",
       "        (model): Sequential(\n",
       "          (0): Linear(in_features=128, out_features=256, bias=True)\n",
       "          (1): LeakyReLU(negative_slope=0.01, inplace=True)\n",
       "          (2): Linear(in_features=256, out_features=256, bias=True)\n",
       "          (3): LeakyReLU(negative_slope=0.01, inplace=True)\n",
       "          (4): Linear(in_features=256, out_features=768, bias=True)\n",
       "        )\n",
       "      )\n",
       "    )\n",
       "  )\n",
       "  (imle_gen): IMLEGenerator(\n",
       "    (generator): Sequential(\n",
       "      (0): Linear(in_features=160, out_features=256, bias=True)\n",
       "      (1): LeakyReLU(negative_slope=0.01, inplace=True)\n",
       "      (2): Linear(in_features=256, out_features=512, bias=True)\n",
       "      (3): LeakyReLU(negative_slope=0.01, inplace=True)\n",
       "      (4): Linear(in_features=512, out_features=128, bias=True)\n",
       "    )\n",
       "    (dim_reduction): Sequential(\n",
       "      (0): Linear(in_features=512, out_features=512, bias=True)\n",
       "      (1): LeakyReLU(negative_slope=0.01)\n",
       "      (2): Linear(in_features=512, out_features=128, bias=True)\n",
       "    )\n",
       "  )\n",
       "  (mse_loss): MSELoss()\n",
       ")"
      ]
     },
     "execution_count": 8,
     "metadata": {},
     "output_type": "execute_result"
    }
   ],
   "source": [
    "lit_imle_model.eval()"
   ]
  },
  {
   "cell_type": "code",
   "execution_count": 59,
   "metadata": {},
   "outputs": [],
   "source": [
    "import os\n",
    "from visualize import mitsuba\n",
    "def generate_category(category_i, n_samples=1):\n",
    "    os.makedirs(f'results/{id2cat[category_i]}', exist_ok=True)\n",
    "    for i in range(n_samples):\n",
    "        pts = lit_imle_model.generate(category_i)[0].detach().cpu().numpy().T\n",
    "        mitsuba(pts, f'results/{id2cat[category_i]}/{i}.xml')"
   ]
  },
  {
   "cell_type": "code",
   "execution_count": 60,
   "metadata": {},
   "outputs": [],
   "source": [
    "cat2id = {}\n",
    "for n, i in zip(test_dataset.name, test_dataset.label):\n",
    "    cat2id[n] = i[0]\n",
    "id2cat = {v: k for k, v in cat2id.items()}"
   ]
  },
  {
   "cell_type": "code",
   "execution_count": 61,
   "metadata": {},
   "outputs": [
    {
     "data": {
      "text/plain": [
       "{14: 'chair',\n",
       " 22: 'train',\n",
       " 0: 'airplane',\n",
       " 18: 'table',\n",
       " 33: 'speaker',\n",
       " 48: 'sofa',\n",
       " 17: 'monitor',\n",
       " 13: 'car',\n",
       " 29: 'jar',\n",
       " 44: 'remote_control',\n",
       " 31: 'lamp',\n",
       " 54: 'bookshelf',\n",
       " 42: 'pot',\n",
       " 19: 'telephone',\n",
       " 3: 'bathtub',\n",
       " 9: 'cabinet',\n",
       " 10: 'can',\n",
       " 50: 'vessel',\n",
       " 28: 'helmet',\n",
       " 45: 'rifle',\n",
       " 24: 'earphone',\n",
       " 41: 'pistol',\n",
       " 49: 'stove',\n",
       " 5: 'bench',\n",
       " 15: 'clock',\n",
       " 2: 'basket',\n",
       " 8: 'bus',\n",
       " 25: 'faucet',\n",
       " 39: 'piano',\n",
       " 27: 'guitar',\n",
       " 6: 'bottle',\n",
       " 43: 'printer',\n",
       " 38: 'mug',\n",
       " 26: 'file',\n",
       " 7: 'bowl',\n",
       " 32: 'laptop',\n",
       " 21: 'tower',\n",
       " 37: 'motorcycle',\n",
       " 36: 'microwave',\n",
       " 34: 'mailbox',\n",
       " 30: 'knife',\n",
       " 23: 'keyboard',\n",
       " 20: 'tin_can',\n",
       " 53: 'birdhouse',\n",
       " 40: 'pillow',\n",
       " 16: 'dishwasher',\n",
       " 51: 'washer',\n",
       " 47: 'skateboard',\n",
       " 4: 'bed',\n",
       " 12: 'cap',\n",
       " 46: 'rocket',\n",
       " 11: 'camera',\n",
       " 52: 'cellphone',\n",
       " 1: 'bag',\n",
       " 35: 'microphone'}"
      ]
     },
     "execution_count": 61,
     "metadata": {},
     "output_type": "execute_result"
    }
   ],
   "source": [
    "id2cat"
   ]
  },
  {
   "cell_type": "code",
   "execution_count": 62,
   "metadata": {},
   "outputs": [
    {
     "data": {
      "text/plain": [
       "{'chair': 14,\n",
       " 'train': 22,\n",
       " 'airplane': 0,\n",
       " 'table': 18,\n",
       " 'speaker': 33,\n",
       " 'sofa': 48,\n",
       " 'monitor': 17,\n",
       " 'car': 13,\n",
       " 'jar': 29,\n",
       " 'remote_control': 44,\n",
       " 'lamp': 31,\n",
       " 'bookshelf': 54,\n",
       " 'pot': 42,\n",
       " 'telephone': 19,\n",
       " 'bathtub': 3,\n",
       " 'cabinet': 9,\n",
       " 'can': 10,\n",
       " 'vessel': 50,\n",
       " 'helmet': 28,\n",
       " 'rifle': 45,\n",
       " 'earphone': 24,\n",
       " 'pistol': 41,\n",
       " 'stove': 49,\n",
       " 'bench': 5,\n",
       " 'clock': 15,\n",
       " 'basket': 2,\n",
       " 'bus': 8,\n",
       " 'faucet': 25,\n",
       " 'piano': 39,\n",
       " 'guitar': 27,\n",
       " 'bottle': 6,\n",
       " 'printer': 43,\n",
       " 'mug': 38,\n",
       " 'file': 26,\n",
       " 'bowl': 7,\n",
       " 'laptop': 32,\n",
       " 'tower': 21,\n",
       " 'motorcycle': 37,\n",
       " 'microwave': 36,\n",
       " 'mailbox': 34,\n",
       " 'knife': 30,\n",
       " 'keyboard': 23,\n",
       " 'tin_can': 20,\n",
       " 'birdhouse': 53,\n",
       " 'pillow': 40,\n",
       " 'dishwasher': 16,\n",
       " 'washer': 51,\n",
       " 'skateboard': 47,\n",
       " 'bed': 4,\n",
       " 'cap': 12,\n",
       " 'rocket': 46,\n",
       " 'camera': 11,\n",
       " 'cellphone': 52,\n",
       " 'bag': 1,\n",
       " 'microphone': 35}"
      ]
     },
     "execution_count": 62,
     "metadata": {},
     "output_type": "execute_result"
    }
   ],
   "source": [
    "cat2id "
   ]
  },
  {
   "cell_type": "code",
   "execution_count": 101,
   "metadata": {},
   "outputs": [],
   "source": [
    "generate_category(13, 10)"
   ]
  },
  {
   "cell_type": "code",
   "execution_count": 70,
   "metadata": {},
   "outputs": [],
   "source": [
    "root = '..'\n",
    "dataset_name = 'shapenetcorev2'\n",
    "\n",
    "test_dataset = RobustAEDataset(root=root, dataset_name=dataset_name, split='test', class_choice='birdhouse')\n",
    "test_loader = DataLoader(test_dataset, batch_size=1, shuffle=False, num_workers=4)"
   ]
  },
  {
   "cell_type": "code",
   "execution_count": 71,
   "metadata": {},
   "outputs": [],
   "source": [
    "for i, batch in enumerate(test_loader):\n",
    "    ori_pc = batch['points'][0].numpy().T\n",
    "    selected_generated_pc_latent, real_pc_latent, generated_pc, real_pc = lit_imle_model(batch, 0)\n",
    "    generated_pc = generated_pc[0].detach().cpu().numpy().T\n",
    "    break"
   ]
  },
  {
   "cell_type": "code",
   "execution_count": 37,
   "metadata": {},
   "outputs": [],
   "source": [
    "label_list = batch['label'].squeeze(-1).tolist()\n",
    "real_pc = batch['points'].cuda()\n",
    "real_pc_enc = batch['points_encoded'].cuda()                                     \n",
    "                                                                                                                                                                                                                                                                                                                                                                                                                                                                                                                                                                                                                                                                                \n",
    "with torch.no_grad():\n",
    "    label_latent = torch.stack([lit_imle_model.label_latents[i] for i in label_list]).squeeze(-1).cuda()\n",
    "    real_pc_latent = lit_imle_model.autoencoder.autoencoder.encoder(real_pc_enc)\n",
    "    \n",
    "generated_pc_latent = lit_imle_model.imle_gen(label_latent, real_pc_latent)\n",
    "generated_pc = lit_imle_model.autoencoder.autoencoder.decoder(generated_pc_latent[0])    \n",
    "generated_pc = generated_pc[0].detach().cpu().numpy().T        "
   ]
  },
  {
   "cell_type": "code",
   "execution_count": 38,
   "metadata": {},
   "outputs": [
    {
     "name": "stdout",
     "output_type": "stream",
     "text": [
      "[27]\n"
     ]
    }
   ],
   "source": [
    "print(label_list)"
   ]
  },
  {
   "cell_type": "code",
   "execution_count": 72,
   "metadata": {},
   "outputs": [],
   "source": [
    "mitsuba(ori_pc, 'results/original.xml')\n",
    "mitsuba(generated_pc, 'results/generated.xml')"
   ]
  },
  {
   "cell_type": "code",
   "execution_count": null,
   "metadata": {},
   "outputs": [],
   "source": []
  },
  {
   "cell_type": "code",
   "execution_count": null,
   "metadata": {},
   "outputs": [],
   "source": []
  }
 ],
 "metadata": {
  "kernelspec": {
   "display_name": "imle",
   "language": "python",
   "name": "python3"
  },
  "language_info": {
   "codemirror_mode": {
    "name": "ipython",
    "version": 3
   },
   "file_extension": ".py",
   "mimetype": "text/x-python",
   "name": "python",
   "nbconvert_exporter": "python",
   "pygments_lexer": "ipython3",
   "version": "3.7.16"
  }
 },
 "nbformat": 4,
 "nbformat_minor": 2
}
