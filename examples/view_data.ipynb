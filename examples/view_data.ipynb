{
 "cells": [
  {
   "cell_type": "code",
   "execution_count": 1,
   "metadata": {},
   "outputs": [],
   "source": [
    "import sys\n",
    "sys.path.append('..')\n",
    "\n",
    "\n",
    "from torch.utils.data import DataLoader\n",
    "from dataset import AEDataset\n",
    "from utils import  farthest_point_sampling,  downsample_point_cloud"
   ]
  },
  {
   "cell_type": "code",
   "execution_count": 2,
   "metadata": {},
   "outputs": [],
   "source": [
    "from types import SimpleNamespace\n",
    "config = {\n",
    "    'enc_filters': (64, 128, 128, 256),\n",
    "    'latent_dim': 128,\n",
    "    'enc_bn': True,\n",
    "    'dec_features': (256, 256),\n",
    "    'n_pts': 256,\n",
    "    'dec_bn': False,\n",
    "}\n",
    "config = SimpleNamespace(**config)"
   ]
  },
  {
   "cell_type": "code",
   "execution_count": 5,
   "metadata": {},
   "outputs": [],
   "source": [
    "root = '..'\n",
    "dataset_name = 'shapenetcorev2'\n",
    "\n",
    "test_dataset = AEDataset(root=root, dataset_name=dataset_name, split='test', class_choice=\"airplane\", sample_num_points=config.n_pts)"
   ]
  },
  {
   "cell_type": "code",
   "execution_count": 12,
   "metadata": {},
   "outputs": [
    {
     "data": {
      "text/plain": [
       "(256, 3)"
      ]
     },
     "execution_count": 12,
     "metadata": {},
     "output_type": "execute_result"
    }
   ],
   "source": []
  },
  {
   "cell_type": "code",
   "execution_count": 25,
   "metadata": {},
   "outputs": [],
   "source": [
    "pc = test_dataset[0][0]"
   ]
  },
  {
   "cell_type": "code",
   "execution_count": 26,
   "metadata": {},
   "outputs": [],
   "source": [
    "pc1 = farthest_point_sampling(pc, 256)"
   ]
  },
  {
   "cell_type": "code",
   "execution_count": 27,
   "metadata": {},
   "outputs": [],
   "source": [
    "pc2 = downsample_point_cloud(pc, 256)"
   ]
  },
  {
   "cell_type": "code",
   "execution_count": 4,
   "metadata": {},
   "outputs": [],
   "source": [
    "from visualize import mitsuba"
   ]
  },
  {
   "cell_type": "code",
   "execution_count": 29,
   "metadata": {},
   "outputs": [],
   "source": [
    "mitsuba(pc1.numpy(), 'results/pc1.xml')\n",
    "mitsuba(pc.numpy(), 'results/pc.xml')\n",
    "mitsuba(pc2.numpy(), 'results/pc2.xml')"
   ]
  },
  {
   "cell_type": "code",
   "execution_count": 16,
   "metadata": {},
   "outputs": [],
   "source": [
    "mitsuba(test_dataset[0]['points'].detach().numpy().T, 'results/pc3.xml')"
   ]
  },
  {
   "cell_type": "code",
   "execution_count": 5,
   "metadata": {},
   "outputs": [],
   "source": [
    "import numpy as np\n",
    "with open('point_clouds/pc_coords_frame_step_4801.txt') as f:\n",
    "    lines = f.readlines()\n",
    "    pcs = []\n",
    "    for i, line in enumerate(lines):\n",
    "        pc = line.split()\n",
    "        pc = [float(x) for x in pc]\n",
    "        pcs.append(pc)\n",
    "    \n",
    "pts = np.array(pcs) / 10"
   ]
  },
  {
   "cell_type": "code",
   "execution_count": 6,
   "metadata": {},
   "outputs": [],
   "source": [
    "mitsuba(pts, 'results/pc5.xml')"
   ]
  },
  {
   "cell_type": "code",
   "execution_count": null,
   "metadata": {},
   "outputs": [],
   "source": [
    "mi.Transform4f.rotate(axis=[0, 1, 0], angle=90)"
   ]
  }
 ],
 "metadata": {
  "kernelspec": {
   "display_name": "imle",
   "language": "python",
   "name": "python3"
  },
  "language_info": {
   "codemirror_mode": {
    "name": "ipython",
    "version": 3
   },
   "file_extension": ".py",
   "mimetype": "text/x-python",
   "name": "python",
   "nbconvert_exporter": "python",
   "pygments_lexer": "ipython3",
   "version": "3.7.16"
  }
 },
 "nbformat": 4,
 "nbformat_minor": 2
}
