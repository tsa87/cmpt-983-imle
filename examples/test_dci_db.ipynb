{
 "cells": [
  {
   "cell_type": "code",
   "execution_count": 6,
   "metadata": {},
   "outputs": [],
   "source": [
    "from dciknn_cuda import DCI"
   ]
  },
  {
   "cell_type": "code",
   "execution_count": 8,
   "metadata": {},
   "outputs": [],
   "source": [
    "import torch\n",
    "\n"
   ]
  },
  {
   "cell_type": "code",
   "execution_count": 11,
   "metadata": {},
   "outputs": [],
   "source": [
    "# dci_db = DCI(128,2,10,100,10)\n",
    "\n",
    "# dci_db.add(data)\n",
    "# index, _ = dci_db.query(query)\n",
    "# print(index[0][0].long())\n",
    "# dci_db.clear()"
   ]
  },
  {
   "cell_type": "code",
   "execution_count": 12,
   "metadata": {},
   "outputs": [],
   "source": [
    "import lightning as L\n",
    "\n",
    "def find_nearest_neighbor(x, y):\n",
    "    # Compute the squared Euclidean distances between y and each point in x\n",
    "    distances = ((x - y) ** 2).sum(1)\n",
    "    # Find the index of the nearest neighbor\n",
    "    min_index = distances.argmin()\n",
    "    return min_index\n",
    "\n",
    "class DCI_Helper:\n",
    "    def __init__(self):\n",
    "        self.dci_db = DCI(128,2,10,100,10)\n",
    "        \n",
    "    def __call__(self, x, y):\n",
    "        # print(x.shape, x.device, x.dtype)\n",
    "        # print(y.shape, y.device, y.dtype)\n",
    "        \n",
    "        self.dci_db.add(x)\n",
    "        index, _ = self.dci_db.query(y)\n",
    "        val = index[0][0].long().item()\n",
    "        self.dci_db.clear()\n",
    "        return val\n",
    "    \n",
    "    def alt(self, x, y):\n",
    "        return find_nearest_neighbor(x, y)"
   ]
  },
  {
   "cell_type": "code",
   "execution_count": 26,
   "metadata": {},
   "outputs": [],
   "source": [
    "class LitIMLEGenerator(L.LightningModule):\n",
    "    def __init__(self):\n",
    "        super().__init__()\n",
    "        self.dci_db = DCI_Helper()\n",
    "    \n",
    "    \n",
    "    def find_closest_latent(self, generated_pc_latent, real_pc_latent):\n",
    "        selected_generated_pc_latent = []\n",
    "        \n",
    "        n_samples = generated_pc_latent.shape[0]\n",
    "        \n",
    "        for i in range(n_samples):\n",
    "            generated_pc_latent_i = generated_pc_latent[i] # [num_latent, latent_dim] \n",
    "            real_pc_latent_i = real_pc_latent[i].unsqueeze(0) # [1, latent_dim]\n",
    "            \n",
    "            index = self.dci_db(generated_pc_latent_i, real_pc_latent_i)\n",
    "            \n",
    "            selected_generated_pc_latent.append(generated_pc_latent_i[index])\n",
    "            \n",
    "        selected_generated_pc_latent = torch.stack(selected_generated_pc_latent)\n",
    "        \n",
    "        torch.cuda.empty_cache()\n",
    "        return selected_generated_pc_latent\n",
    "    \n",
    "    def forward(self):\n",
    "        num_latents = 80\n",
    "        batch_size = 32\n",
    "        dimension = 128\n",
    "\n",
    "        generated_latents = torch.randn(batch_size, num_latents, dimension).cuda()\n",
    "        real_latent = torch.randn(batch_size, dimension).cuda()\n",
    "        \n",
    "        return self.find_closest_latent(generated_latents, real_latent)\n",
    "    "
   ]
  },
  {
   "cell_type": "code",
   "execution_count": 22,
   "metadata": {},
   "outputs": [],
   "source": [
    "num_latents = 80\n",
    "batch_size = 32\n",
    "dimension = 128\n",
    "\n",
    "generated_latents = torch.randn(batch_size, num_latents, dimension).cuda()\n",
    "real_latent = torch.randn(batch_size, dimension).cuda()"
   ]
  },
  {
   "cell_type": "code",
   "execution_count": 27,
   "metadata": {},
   "outputs": [],
   "source": [
    "model = LitIMLEGenerator()"
   ]
  },
  {
   "cell_type": "code",
   "execution_count": 25,
   "metadata": {},
   "outputs": [
    {
     "data": {
      "text/plain": [
       "tensor([[-1.2044, -0.0964,  0.7220,  ..., -1.0811, -0.0609,  0.4459],\n",
       "        [ 1.2331, -0.2506,  1.0042,  ...,  0.8392, -1.2361, -0.4691],\n",
       "        [ 0.1467,  0.4821, -1.6091,  ...,  0.9150, -0.1763, -1.6714],\n",
       "        ...,\n",
       "        [-0.7575,  0.4880,  0.2686,  ...,  1.0795,  0.2781, -0.1403],\n",
       "        [ 0.4398,  1.0322,  1.3751,  ..., -0.0102, -1.7053,  0.9193],\n",
       "        [ 1.7316,  0.6041,  1.0555,  ..., -0.8117, -0.9223, -1.2265]],\n",
       "       device='cuda:0')"
      ]
     },
     "execution_count": 25,
     "metadata": {},
     "output_type": "execute_result"
    }
   ],
   "source": [
    "model.find_closest_latent(generated_latents, real_latent)"
   ]
  },
  {
   "cell_type": "code",
   "execution_count": 28,
   "metadata": {},
   "outputs": [
    {
     "data": {
      "text/plain": [
       "tensor([[-1.2044, -0.0964,  0.7220,  ..., -1.0811, -0.0609,  0.4459],\n",
       "        [ 1.2331, -0.2506,  1.0042,  ...,  0.8392, -1.2361, -0.4691],\n",
       "        [ 0.1467,  0.4821, -1.6091,  ...,  0.9150, -0.1763, -1.6714],\n",
       "        ...,\n",
       "        [-0.7575,  0.4880,  0.2686,  ...,  1.0795,  0.2781, -0.1403],\n",
       "        [ 0.4398,  1.0322,  1.3751,  ..., -0.0102, -1.7053,  0.9193],\n",
       "        [ 1.7316,  0.6041,  1.0555,  ..., -0.8117, -0.9223, -1.2265]],\n",
       "       device='cuda:0')"
      ]
     },
     "execution_count": 28,
     "metadata": {},
     "output_type": "execute_result"
    }
   ],
   "source": [
    "model.find_closest_latent(generated_latents, real_latent)"
   ]
  },
  {
   "cell_type": "code",
   "execution_count": null,
   "metadata": {},
   "outputs": [],
   "source": []
  }
 ],
 "metadata": {
  "kernelspec": {
   "display_name": "imle",
   "language": "python",
   "name": "python3"
  },
  "language_info": {
   "codemirror_mode": {
    "name": "ipython",
    "version": 3
   },
   "file_extension": ".py",
   "mimetype": "text/x-python",
   "name": "python",
   "nbconvert_exporter": "python",
   "pygments_lexer": "ipython3",
   "version": "3.7.16"
  }
 },
 "nbformat": 4,
 "nbformat_minor": 2
}
