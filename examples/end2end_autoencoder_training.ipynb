{
 "cells": [
  {
   "cell_type": "code",
   "execution_count": 1,
   "metadata": {},
   "outputs": [],
   "source": [
    "import sys\n",
    "sys.path.append('..')\n",
    "\n",
    "import torch\n",
    "import lightning as L\n",
    "from torch.utils.data import DataLoader\n",
    "\n",
    "from dataset import AEDataset\n",
    "from lightning_model import LitAE"
   ]
  },
  {
   "cell_type": "code",
   "execution_count": 2,
   "metadata": {},
   "outputs": [],
   "source": [
    "from types import SimpleNamespace\n",
    "config = {\n",
    "    'enc_filters': (64, 128, 128, 256),\n",
    "    'latent_dim': 128,\n",
    "    'enc_bn': True,\n",
    "    'dec_features': (256, 256),\n",
    "    'n_pts': 256,\n",
    "    'dec_bn': False,\n",
    "}\n",
    "config = SimpleNamespace(**config)"
   ]
  },
  {
   "cell_type": "code",
   "execution_count": 3,
   "metadata": {},
   "outputs": [
    {
     "name": "stdout",
     "output_type": "stream",
     "text": [
      "datasize: 35708\n",
      "datasize: 5158\n",
      "datasize: 10261\n"
     ]
    }
   ],
   "source": [
    "root = '..'\n",
    "dataset_name = 'shapenetcorev2'\n",
    "# choose split type from 'train', 'test', 'all', 'trainval' and 'val'\n",
    "# only shapenetcorev2 and shapenetpart dataset support 'trainval' and 'val'\n",
    "\n",
    "train_dataset = AEDataset(root=root, dataset_name=dataset_name, num_points=config.n_pts, split='train')\n",
    "val_dataset = AEDataset(root=root, dataset_name=dataset_name, num_points=config.n_pts, split='val')\n",
    "test_dataset = AEDataset(root=root, dataset_name=dataset_name, num_points=config.n_pts, split='test')\n",
    "\n",
    "train_loader = DataLoader(train_dataset, batch_size=32, shuffle=True, num_workers=4)\n",
    "val_loader = DataLoader(val_dataset, batch_size=32, shuffle=False, num_workers=4)\n",
    "test_loader = DataLoader(test_dataset, batch_size=32, shuffle=False, num_workers=4)\n",
    "print(\"datasize:\", train_dataset.__len__())\n",
    "print(\"datasize:\", val_dataset.__len__())\n",
    "print(\"datasize:\", test_dataset.__len__())"
   ]
  },
  {
   "cell_type": "code",
   "execution_count": 4,
   "metadata": {},
   "outputs": [],
   "source": [
    "autoencoder = LitAE(config)"
   ]
  },
  {
   "cell_type": "code",
   "execution_count": 7,
   "metadata": {},
   "outputs": [
    {
     "name": "stdout",
     "output_type": "stream",
     "text": [
      "{'points': tensor([[[ 8.9962e-02,  1.6842e-01,  4.8156e-02,  ..., -3.7658e-01,\n",
      "           1.4314e-01,  3.0484e-01],\n",
      "         [ 6.8876e-02,  5.5784e-01,  5.4834e-02,  ..., -3.4681e-01,\n",
      "           6.9916e-01, -3.4516e-01],\n",
      "         [ 2.5466e-01, -7.8273e-02,  1.1071e-01,  ...,  4.2788e-01,\n",
      "          -8.6583e-02, -4.9160e-01]],\n",
      "\n",
      "        [[-4.4747e-01,  2.4359e-02,  4.5670e-01,  ..., -5.9050e-01,\n",
      "          -4.9137e-01, -6.9198e-01],\n",
      "         [ 4.9071e-01, -1.0630e-01,  9.7348e-02,  ...,  5.6836e-02,\n",
      "          -1.4527e-01, -6.2099e-01],\n",
      "         [ 3.4736e-01, -3.7975e-01,  2.0419e-01,  ...,  2.3878e-01,\n",
      "          -5.6534e-01, -4.4781e-03]],\n",
      "\n",
      "        [[-6.6747e-02,  3.7337e-02, -1.6324e-01,  ..., -2.2159e-01,\n",
      "           1.3515e-01, -2.2157e-01],\n",
      "         [ 1.9849e-01, -1.3094e-01, -1.1861e-01,  ..., -4.0975e-02,\n",
      "          -3.8280e-02,  8.7529e-03],\n",
      "         [ 1.8727e-01, -8.0979e-01,  9.1355e-01,  ...,  5.9768e-01,\n",
      "          -7.9011e-01, -2.0209e-02]],\n",
      "\n",
      "        ...,\n",
      "\n",
      "        [[ 1.6449e-02,  1.6449e-02, -1.6357e-02,  ..., -1.6357e-02,\n",
      "           6.4881e-03,  3.7921e-05],\n",
      "         [ 3.1913e-02,  1.6809e-02,  5.9996e-03,  ...,  2.3728e-02,\n",
      "           3.6865e-02,  4.2404e-02],\n",
      "         [-4.0871e-01, -3.4250e-01,  3.6713e-01,  ...,  7.3193e-03,\n",
      "          -7.8303e-01, -7.4217e-01]],\n",
      "\n",
      "        [[-3.8512e-01, -4.7035e-01,  4.7069e-01,  ..., -1.8529e-01,\n",
      "          -3.2737e-01,  4.4607e-01],\n",
      "         [ 6.4377e-01,  6.8838e-01, -6.3767e-01,  ..., -3.7706e-01,\n",
      "          -6.9879e-02,  8.2496e-01],\n",
      "         [ 2.9081e-01,  1.6214e-01, -1.5926e-01,  ...,  2.9081e-01,\n",
      "           2.9081e-01, -5.3266e-02]],\n",
      "\n",
      "        [[-4.2623e-02, -5.2804e-03, -2.3289e-02,  ...,  9.0352e-03,\n",
      "          -9.3937e-02,  3.5999e-02],\n",
      "         [-2.9988e-01,  2.3598e-01, -1.5803e-01,  ..., -1.6870e-03,\n",
      "          -9.0518e-02, -3.6364e-01],\n",
      "         [-6.6790e-01,  4.1516e-01, -2.5991e-01,  ...,  2.6364e-01,\n",
      "          -5.0556e-01,  7.2373e-01]]]), 'points_encoded': tensor([[[ 8.9962e-02,  1.6842e-01,  4.8156e-02,  ..., -3.7658e-01,\n",
      "           1.4314e-01,  3.0484e-01],\n",
      "         [ 6.8876e-02,  5.5784e-01,  5.4834e-02,  ..., -3.4681e-01,\n",
      "           6.9916e-01, -3.4516e-01],\n",
      "         [ 2.5466e-01, -7.8273e-02,  1.1071e-01,  ...,  4.2788e-01,\n",
      "          -8.6583e-02, -4.9160e-01],\n",
      "         ...,\n",
      "         [-9.6566e-01,  6.2637e-01,  2.9785e-02,  ...,  8.6997e-01,\n",
      "          -1.3151e-01, -9.4601e-01],\n",
      "         [-5.9176e-01,  5.4130e-01, -1.8286e-01,  ...,  1.0204e-01,\n",
      "          -9.2788e-01,  4.9528e-02],\n",
      "         [-2.9077e-01, -8.0396e-01, -9.2060e-01,  ...,  4.3033e-01,\n",
      "          -9.3199e-01, -9.9973e-01]],\n",
      "\n",
      "        [[-4.4747e-01,  2.4359e-02,  4.5670e-01,  ..., -5.9050e-01,\n",
      "          -4.9137e-01, -6.9198e-01],\n",
      "         [ 4.9071e-01, -1.0630e-01,  9.7348e-02,  ...,  5.6836e-02,\n",
      "          -1.4527e-01, -6.2099e-01],\n",
      "         [ 3.4736e-01, -3.7975e-01,  2.0419e-01,  ...,  2.3878e-01,\n",
      "          -5.6534e-01, -4.4781e-03],\n",
      "         ...,\n",
      "         [-1.8079e-01,  7.1128e-01, -4.5920e-01,  ...,  9.9892e-01,\n",
      "          -9.9987e-01, -9.8842e-01],\n",
      "         [-9.9999e-01, -9.6636e-01, -9.9965e-01,  ..., -2.4542e-01,\n",
      "          -6.3547e-02,  5.2153e-01],\n",
      "         [ 1.1969e-01,  9.1533e-01,  9.6870e-01,  ...,  2.1143e-01,\n",
      "           7.2579e-01,  9.8975e-01]],\n",
      "\n",
      "        [[-6.6747e-02,  3.7337e-02, -1.6324e-01,  ..., -2.2159e-01,\n",
      "           1.3515e-01, -2.2157e-01],\n",
      "         [ 1.9849e-01, -1.3094e-01, -1.1861e-01,  ..., -4.0975e-02,\n",
      "          -3.8280e-02,  8.7529e-03],\n",
      "         [ 1.8727e-01, -8.0979e-01,  9.1355e-01,  ...,  5.9768e-01,\n",
      "          -7.9011e-01, -2.0209e-02],\n",
      "         ...,\n",
      "         [-5.3551e-01,  3.6723e-01,  4.8938e-01,  ...,  6.9107e-01,\n",
      "          -3.7782e-01,  6.9163e-01],\n",
      "         [ 9.9765e-01, -4.9897e-01, -7.9368e-01,  ...,  2.5669e-01,\n",
      "           3.3897e-01,  9.6103e-01],\n",
      "         [ 9.5809e-01,  7.1051e-01, -5.7412e-01,  ...,  9.6208e-01,\n",
      "           9.8866e-01,  7.9808e-01]],\n",
      "\n",
      "        ...,\n",
      "\n",
      "        [[ 1.6449e-02,  1.6449e-02, -1.6357e-02,  ..., -1.6357e-02,\n",
      "           6.4881e-03,  3.7921e-05],\n",
      "         [ 3.1913e-02,  1.6809e-02,  5.9996e-03,  ...,  2.3728e-02,\n",
      "           3.6865e-02,  4.2404e-02],\n",
      "         [-4.0871e-01, -3.4250e-01,  3.6713e-01,  ...,  7.3193e-03,\n",
      "          -7.8303e-01, -7.4217e-01],\n",
      "         ...,\n",
      "         [ 8.6464e-01,  8.6464e-01,  8.6611e-01,  ...,  8.6611e-01,\n",
      "           9.7852e-01,  1.0000e+00],\n",
      "         [ 5.2233e-01,  8.5879e-01,  9.8163e-01,  ...,  7.2531e-01,\n",
      "           3.8122e-01,  2.1224e-01],\n",
      "         [ 8.7164e-01, -3.5459e-02,  6.8359e-01,  ...,  9.7270e-01,\n",
      "           9.9713e-01,  1.8624e-01]],\n",
      "\n",
      "        [[-3.8512e-01, -4.7035e-01,  4.7069e-01,  ..., -1.8529e-01,\n",
      "          -3.2737e-01,  4.4607e-01],\n",
      "         [ 6.4377e-01,  6.8838e-01, -6.3767e-01,  ..., -3.7706e-01,\n",
      "          -6.9879e-02,  8.2496e-01],\n",
      "         [ 2.9081e-01,  1.6214e-01, -1.5926e-01,  ...,  2.9081e-01,\n",
      "           2.9081e-01, -5.3266e-02],\n",
      "         ...,\n",
      "         [ 9.7070e-01, -7.9194e-01, -7.9857e-01,  ...,  9.3802e-01,\n",
      "          -4.9676e-01, -1.3679e-01],\n",
      "         [-1.7925e-01, -9.9932e-01,  1.4981e-02,  ...,  8.7733e-01,\n",
      "          -6.1733e-01,  3.0016e-01],\n",
      "         [-9.9295e-01,  4.5839e-01,  3.7463e-01,  ..., -9.9295e-01,\n",
      "          -9.9295e-01, -1.3332e-01]],\n",
      "\n",
      "        [[-4.2623e-02, -5.2804e-03, -2.3289e-02,  ...,  9.0352e-03,\n",
      "          -9.3937e-02,  3.5999e-02],\n",
      "         [-2.9988e-01,  2.3598e-01, -1.5803e-01,  ..., -1.6870e-03,\n",
      "          -9.0518e-02, -3.6364e-01],\n",
      "         [-6.6790e-01,  4.1516e-01, -2.5991e-01,  ...,  2.6364e-01,\n",
      "          -5.0556e-01,  7.2373e-01],\n",
      "         ...,\n",
      "         [ 2.0537e-01,  9.8576e-01,  7.3492e-01,  ...,  9.5849e-01,\n",
      "          -9.9082e-01,  4.0668e-01],\n",
      "         [-9.8537e-01,  2.9787e-01,  3.3771e-01,  ...,  9.9854e-01,\n",
      "          -9.7013e-01,  5.9802e-01],\n",
      "         [-8.1484e-01,  7.5257e-01, -4.4683e-01,  ..., -5.4999e-01,\n",
      "          -8.9156e-01, -3.9194e-01]]]), 'label': tensor([[31],\n",
      "        [48],\n",
      "        [13],\n",
      "        [19],\n",
      "        [13],\n",
      "        [45],\n",
      "        [ 0],\n",
      "        [ 0],\n",
      "        [29],\n",
      "        [14],\n",
      "        [49],\n",
      "        [48],\n",
      "        [ 9],\n",
      "        [18],\n",
      "        [45],\n",
      "        [45],\n",
      "        [14],\n",
      "        [18],\n",
      "        [13],\n",
      "        [ 8],\n",
      "        [13],\n",
      "        [ 0],\n",
      "        [14],\n",
      "        [39],\n",
      "        [42],\n",
      "        [31],\n",
      "        [ 0],\n",
      "        [31],\n",
      "        [45],\n",
      "        [45],\n",
      "        [ 9],\n",
      "        [37]])}\n",
      "torch.Size([32, 3, 256])\n"
     ]
    }
   ],
   "source": [
    "for batch in train_loader:\n",
    "    print(batch)\n",
    "    print(batch['points'].shape)\n",
    "    break"
   ]
  },
  {
   "cell_type": "code",
   "execution_count": 5,
   "metadata": {},
   "outputs": [
    {
     "name": "stderr",
     "output_type": "stream",
     "text": [
      "/home/tsa87/anaconda3/envs/imle/lib/python3.7/site-packages/lightning/pytorch/trainer/connectors/accelerator_connector.py:479: LightningDeprecationWarning: Setting `Trainer(gpus=1)` is deprecated in v1.7 and will be removed in v2.0. Please use `Trainer(accelerator='gpu', devices=1)` instead.\n",
      "  f\"Setting `Trainer(gpus={gpus!r})` is deprecated in v1.7 and will be removed\"\n",
      "GPU available: True (cuda), used: True\n",
      "TPU available: False, using: 0 TPU cores\n",
      "IPU available: False, using: 0 IPUs\n",
      "HPU available: False, using: 0 HPUs\n",
      "You are using a CUDA device ('NVIDIA GeForce RTX 3090') that has Tensor Cores. To properly utilize them, you should set `torch.set_float32_matmul_precision('medium' | 'high')` which will trade-off precision for performance. For more details, read https://pytorch.org/docs/stable/generated/torch.set_float32_matmul_precision.html#torch.set_float32_matmul_precision\n"
     ]
    },
    {
     "name": "stderr",
     "output_type": "stream",
     "text": [
      "LOCAL_RANK: 0 - CUDA_VISIBLE_DEVICES: [0]\n",
      "\n",
      "  | Name        | Type    | Params\n",
      "----------------------------------------\n",
      "0 | autoencoder | PointAE | 390 K \n",
      "----------------------------------------\n",
      "390 K     Trainable params\n",
      "0         Non-trainable params\n",
      "390 K     Total params\n",
      "1.564     Total estimated model params size (MB)\n"
     ]
    },
    {
     "data": {
      "application/vnd.jupyter.widget-view+json": {
       "model_id": "9490d7a4d6944957bb02471f0142010c",
       "version_major": 2,
       "version_minor": 0
      },
      "text/plain": [
       "Sanity Checking: 0it [00:00, ?it/s]"
      ]
     },
     "metadata": {},
     "output_type": "display_data"
    },
    {
     "name": "stderr",
     "output_type": "stream",
     "text": [
      "/home/tsa87/anaconda3/envs/imle/lib/python3.7/site-packages/lightning/pytorch/trainer/call.py:48: UserWarning: Detected KeyboardInterrupt, attempting graceful shutdown...\n",
      "  rank_zero_warn(\"Detected KeyboardInterrupt, attempting graceful shutdown...\")\n"
     ]
    }
   ],
   "source": [
    "trainer = L.Trainer(max_epochs=1000, gpus=1)\n",
    "trainer.fit(model=autoencoder, train_dataloaders=train_loader, val_dataloaders=val_loader)"
   ]
  },
  {
   "cell_type": "markdown",
   "metadata": {},
   "source": []
  },
  {
   "cell_type": "code",
   "execution_count": null,
   "metadata": {},
   "outputs": [],
   "source": []
  }
 ],
 "metadata": {
  "kernelspec": {
   "display_name": "imle",
   "language": "python",
   "name": "python3"
  },
  "language_info": {
   "codemirror_mode": {
    "name": "ipython",
    "version": 3
   },
   "file_extension": ".py",
   "mimetype": "text/x-python",
   "name": "python",
   "nbconvert_exporter": "python",
   "pygments_lexer": "ipython3",
   "version": "3.7.16"
  }
 },
 "nbformat": 4,
 "nbformat_minor": 2
}
